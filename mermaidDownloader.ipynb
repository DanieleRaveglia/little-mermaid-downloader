{
 "cells": [
  {
   "cell_type": "markdown",
   "metadata": {},
   "source": [
    "# Video e Slide Downloader"
   ]
  },
  {
   "cell_type": "code",
   "execution_count": 1,
   "metadata": {},
   "outputs": [],
   "source": [
    "from bs4 import BeautifulSoup as bs\n",
    "import re\n",
    "import requests\n",
    "import os"
   ]
  },
  {
   "cell_type": "code",
   "execution_count": 2,
   "metadata": {},
   "outputs": [],
   "source": [
    "pagetxt = open(\"page.txt\", \"r\")\n",
    "soup = bs(pagetxt)"
   ]
  },
  {
   "cell_type": "code",
   "execution_count": 3,
   "metadata": {},
   "outputs": [
    {
     "data": {
      "text/plain": [
       "['https://videolectures.unimi.it/vod/mp4:ElenaCasiraghi_Lezione12_B_TimeSeriesData.mp4/manifest.m3u8',\n",
       " 'https://videolectures.unimi.it/vod/mp4:ElenaCasiraghi_Lezione12_C_TimeSeriesData.mp4/manifest.m3u8',\n",
       " 'https://videolectures.unimi.it/vod/mp4:ElenaCasiraghi_Lezione12_MIC.mp4/manifest.m3u8',\n",
       " 'https://videolectures.unimi.it/vod/mp4:ElenaCasiraghi_Lezione11_10_05_2021.mp4/manifest.m3u8',\n",
       " 'https://videolectures.unimi.it/vod/mp4:ElenaCasiraghi_Lezione10_07_05_2021.mp4/manifest.m3u8',\n",
       " 'https://videolectures.unimi.it/vod/mp4:ElenaCasiraghi_Lezione9_03_05_2021.mp4/manifest.m3u8',\n",
       " 'https://videolectures.unimi.it/vod/mp4:ElenaCasiraghi_Lezione8_30_aprile_2021.mp4.mp4/manifest.m3u8',\n",
       " 'https://videolectures.unimi.it/vod/mp4:ElenaCasiraghi_Lezione7_26_aprile_2021.mp4/manifest.m3u8',\n",
       " 'https://videolectures.unimi.it/vod/mp4:ElenaCasiraghi_Lezione6a_2021_04_23.mp4/manifest.m3u8',\n",
       " 'https://videolectures.unimi.it/vod/mp4:ElenaCasiraghi_Lezione6b_2021_04_23.mp4/manifest.m3u8',\n",
       " 'https://videolectures.unimi.it/vod/mp4:Lezione5_tSNE_2021_04_19.mp4/manifest.m3u8',\n",
       " 'https://videolectures.unimi.it/vod/mp4:Lezione4_SNE_2021_04_16.mp4/manifest.m3u8',\n",
       " 'https://videolectures.unimi.it/vod/mp4:Lezione3_PCA_Data_embedding.mp4/manifest.m3u8',\n",
       " 'https://videolectures.unimi.it/vod/mp4:ElenaCasiraghi_Lezione5_2021_04_12.mp4/manifest.m3u8',\n",
       " 'https://videolectures.unimi.it/vod/mp4:ElenaCasiraghi_Lezione4.mp4/manifest.m3u8',\n",
       " 'https://videolectures.unimi.it/vod/mp4:ElenaCasiraghi_Lezione5_22_Marzo_2021.mp4/manifest.m3u8',\n",
       " 'https://videolectures.unimi.it/vod/mp4:ElenaCasiraghi_Lezione2_12_Marzo_2021.mp4/manifest.m3u8',\n",
       " 'https://videolectures.unimi.it/vod/mp4:ElenaCasiraghi_Lezione1_08_Marzo.mp4/manifest.m3u8',\n",
       " 'https://videolectures.unimi.it/vod/mp4:ElenaCasiraghi_Lezione4_19_marzo_2021.mp4/manifest.m3u8',\n",
       " 'https://videolectures.unimi.it/vod/mp4:ElenaCasiraghi_Lezione3_15_Marzo_2021.mp4/manifest.m3u8']"
      ]
     },
     "execution_count": 3,
     "metadata": {},
     "output_type": "execute_result"
    }
   ],
   "source": [
    "videos = [ div.find(\"video\").find(\"source\")[\"src\"] for div in soup.find_all(\"div\", class_=\"embed-responsive embed-responsive-16by9\")]\n",
    "videos"
   ]
  },
  {
   "cell_type": "code",
   "execution_count": 4,
   "metadata": {},
   "outputs": [
    {
     "name": "stdin",
     "output_type": "stream",
     "text": [
      "Inserire il link del sito ariel https://ecasiraghivs.ariel.ctu.unimi.it/\n"
     ]
    },
    {
     "data": {
      "text/plain": [
       "['https://pad.atrent.it/g-By3RkPRvO9o_2X8kKKFQ',\n",
       " 'https://github.com/gregorioghidoli/netviz',\n",
       " 'http://www.hiveplot.com/',\n",
       " 'https://ecasiraghivs.ariel.ctu.unimi.it//frm3/Download.aspx?toolName=contenuti&attachmentid=1314153',\n",
       " 'https://ecasiraghivs.ariel.ctu.unimi.it//frm3/Download.aspx?toolName=contenuti&attachmentid=1314159',\n",
       " 'https://ecasiraghivs.ariel.ctu.unimi.it//frm3/Download.aspx?toolName=contenuti&attachmentid=1314150',\n",
       " 'https://ecasiraghivs.ariel.ctu.unimi.it//frm3/Download.aspx?toolName=contenuti&attachmentid=1314151',\n",
       " 'https://ecasiraghivs.ariel.ctu.unimi.it//frm3/Download.aspx?toolName=contenuti&attachmentid=1314152',\n",
       " 'https://ecasiraghivs.ariel.ctu.unimi.it//frm3/Download.aspx?toolName=contenuti&attachmentid=1314154',\n",
       " 'https://ecasiraghivs.ariel.ctu.unimi.it//frm3/Download.aspx?toolName=contenuti&attachmentid=1314146',\n",
       " 'https://ecasiraghivs.ariel.ctu.unimi.it//frm3/Download.aspx?toolName=contenuti&attachmentid=1314147',\n",
       " 'https://ecasiraghivs.ariel.ctu.unimi.it//frm3/Download.aspx?toolName=contenuti&attachmentid=1312615',\n",
       " 'https://ecasiraghivs.ariel.ctu.unimi.it//frm3/Download.aspx?toolName=contenuti&attachmentid=1312625',\n",
       " 'https://ecasiraghivs.ariel.ctu.unimi.it//frm3/Download.aspx?toolName=contenuti&attachmentid=1312618',\n",
       " 'https://ecasiraghivs.ariel.ctu.unimi.it//frm3/Download.aspx?toolName=contenuti&attachmentid=1312619',\n",
       " 'https://ecasiraghivs.ariel.ctu.unimi.it//frm3/Download.aspx?toolName=contenuti&attachmentid=1312620',\n",
       " 'https://ecasiraghivs.ariel.ctu.unimi.it//frm3/Download.aspx?toolName=contenuti&attachmentid=1312622',\n",
       " 'https://ecasiraghivs.ariel.ctu.unimi.it//frm3/Download.aspx?toolName=contenuti&attachmentid=1312621',\n",
       " 'https://ecasiraghivs.ariel.ctu.unimi.it//frm3/Download.aspx?toolName=contenuti&attachmentid=1307683',\n",
       " 'https://ecasiraghivs.ariel.ctu.unimi.it//frm3/Download.aspx?toolName=contenuti&attachmentid=1299008',\n",
       " 'https://ecasiraghivs.ariel.ctu.unimi.it//frm3/Download.aspx?toolName=contenuti&attachmentid=1293992',\n",
       " 'https://ecasiraghivs.ariel.ctu.unimi.it//frm3/Download.aspx?toolName=contenuti&attachmentid=1292335',\n",
       " 'https://ecasiraghivs.ariel.ctu.unimi.it//frm3/Download.aspx?toolName=contenuti&attachmentid=1276452',\n",
       " 'https://ecasiraghivs.ariel.ctu.unimi.it//frm3/Download.aspx?toolName=contenuti&attachmentid=1276454',\n",
       " 'https://ecasiraghivs.ariel.ctu.unimi.it//frm3/Download.aspx?toolName=contenuti&attachmentid=1276453',\n",
       " 'https://ecasiraghivs.ariel.ctu.unimi.it//frm3/Download.aspx?toolName=contenuti&attachmentid=1287515',\n",
       " 'https://ecasiraghivs.ariel.ctu.unimi.it//frm3/Download.aspx?toolName=contenuti&attachmentid=1277485',\n",
       " 'https://ecasiraghivs.ariel.ctu.unimi.it//frm3/Download.aspx?toolName=contenuti&attachmentid=1277481',\n",
       " 'https://ecasiraghivs.ariel.ctu.unimi.it//frm3/Download.aspx?toolName=contenuti&attachmentid=1277482',\n",
       " 'https://ecasiraghivs.ariel.ctu.unimi.it//frm3/Download.aspx?toolName=contenuti&attachmentid=1277483',\n",
       " 'https://ecasiraghivs.ariel.ctu.unimi.it//frm3/Download.aspx?toolName=contenuti&attachmentid=1276699',\n",
       " 'https://ecasiraghivs.ariel.ctu.unimi.it//frm3/Download.aspx?toolName=contenuti&attachmentid=1276696',\n",
       " 'https://ecasiraghivs.ariel.ctu.unimi.it//frm3/Download.aspx?toolName=contenuti&attachmentid=1276697',\n",
       " 'https://ecasiraghivs.ariel.ctu.unimi.it//frm3/Download.aspx?toolName=contenuti&attachmentid=1276698',\n",
       " 'https://ecasiraghivs.ariel.ctu.unimi.it//frm3/Download.aspx?toolName=contenuti&attachmentid=1274962',\n",
       " 'https://ecasiraghivs.ariel.ctu.unimi.it//frm3/Download.aspx?toolName=contenuti&attachmentid=1274963',\n",
       " 'https://ecasiraghivs.ariel.ctu.unimi.it//frm3/Download.aspx?toolName=contenuti&attachmentid=1274954',\n",
       " 'https://ecasiraghivs.ariel.ctu.unimi.it//frm3/Download.aspx?toolName=contenuti&attachmentid=1274958',\n",
       " 'https://ecasiraghivs.ariel.ctu.unimi.it//frm3/Download.aspx?toolName=contenuti&attachmentid=1274960',\n",
       " 'https://ecasiraghivs.ariel.ctu.unimi.it//frm3/Download.aspx?toolName=contenuti&attachmentid=1274956',\n",
       " 'https://ecasiraghivs.ariel.ctu.unimi.it//frm3/Download.aspx?toolName=contenuti&attachmentid=1270480',\n",
       " 'https://ecasiraghivs.ariel.ctu.unimi.it//frm3/Download.aspx?toolName=contenuti&attachmentid=1274957',\n",
       " 'https://ecasiraghivs.ariel.ctu.unimi.it//frm3/Download.aspx?toolName=contenuti&attachmentid=1261366',\n",
       " 'https://ecasiraghivs.ariel.ctu.unimi.it//frm3/Download.aspx?toolName=contenuti&attachmentid=1256033',\n",
       " 'https://ecasiraghivs.ariel.ctu.unimi.it//frm3/Download.aspx?toolName=contenuti&attachmentid=1256034',\n",
       " 'https://ecasiraghivs.ariel.ctu.unimi.it//frm3/Download.aspx?toolName=contenuti&attachmentid=1256037',\n",
       " 'https://ecasiraghivs.ariel.ctu.unimi.it//frm3/Download.aspx?toolName=contenuti&attachmentid=1256032',\n",
       " 'https://ecasiraghivs.ariel.ctu.unimi.it//frm3/Download.aspx?toolName=contenuti&attachmentid=1268367',\n",
       " 'https://ecasiraghivs.ariel.ctu.unimi.it//frm3/Download.aspx?toolName=contenuti&attachmentid=1262435',\n",
       " 'https://ecasiraghivs.ariel.ctu.unimi.it//frm3/Download.aspx?toolName=contenuti&attachmentid=1262436',\n",
       " 'https://ecasiraghivs.ariel.ctu.unimi.it//frm3/Download.aspx?toolName=contenuti&attachmentid=1262434']"
      ]
     },
     "execution_count": 4,
     "metadata": {},
     "output_type": "execute_result"
    }
   ],
   "source": [
    "materials_nonflat  = [ div.find_all(\"a\") for div in soup.find_all(\"div\", class_=\"arielMessageBody\")]\n",
    "materials = [item[\"href\"] for sublist in materials_nonflat for item in sublist]\n",
    "attacched_materials_non_flat =  [ div.find_all(\"a\") for div in soup.find_all(\"div\", class_=\"arielAttachmentBox\")]\n",
    "sitoAriel=\"\"\n",
    "if len(attacched_materials_non_flat)!=0:\n",
    "    sitoAriel = input(\"Inserire il link del sito ariel\")\n",
    "attached_materials = [sitoAriel + re.search( '(/.+)', item[\"href\"]).group(1) for sublist in attacched_materials_non_flat for item in sublist]\n",
    "materials = materials + attached_materials\n",
    "materials"
   ]
  },
  {
   "cell_type": "code",
   "execution_count": null,
   "metadata": {},
   "outputs": [],
   "source": [
    "print('Sto scaricando slide e altri materiali')\n",
    "for materiale in materials:\n",
    "    r = requests.get(materiale, allow_redirects=True)\n",
    "    m = re.search('.+/(.+)', materiale).group(1)\n",
    "    with open('Result/' + m , 'wb+') as f:\n",
    "        f.write(r.content)\n",
    "print(\"Ho finito di scaricare slide e altri materiali. Inizio a scaricare le videolezioni\")"
   ]
  },
  {
   "cell_type": "code",
   "execution_count": null,
   "metadata": {},
   "outputs": [
    {
     "name": "stdout",
     "output_type": "stream",
     "text": [
      "Sto scaricando ElenaCasiraghi_Lezione12_B_TimeSeriesData\n"
     ]
    }
   ],
   "source": [
    "for video in videos:\n",
    "    m = re.search('.+/mp4:(.+).mp4/.+', video).group(1)\n",
    "    print(f'Sto scaricando {m}')\n",
    "    command = f'ffmpeg -i \"{video}\" -c copy \"Result/videos/{m}.mp4\"'\n",
    "    if os.system(command):\n",
    "        raise RuntimeError(f'program {command} failed!')\n",
    "    print(f'Ho finito di scaricare {m}')"
   ]
  }
 ],
 "metadata": {
  "kernelspec": {
   "display_name": "Python 3",
   "language": "python",
   "name": "python3"
  },
  "language_info": {
   "codemirror_mode": {
    "name": "ipython",
    "version": 3
   },
   "file_extension": ".py",
   "mimetype": "text/x-python",
   "name": "python",
   "nbconvert_exporter": "python",
   "pygments_lexer": "ipython3",
   "version": "3.7.4"
  }
 },
 "nbformat": 4,
 "nbformat_minor": 4
}
