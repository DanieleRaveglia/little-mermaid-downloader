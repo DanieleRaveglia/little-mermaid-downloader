{
 "cells": [
  {
   "cell_type": "markdown",
   "metadata": {},
   "source": [
    "# Video e Slide Downloader"
   ]
  },
  {
   "cell_type": "code",
   "execution_count": null,
   "metadata": {},
   "outputs": [],
   "source": [
    "from bs4 import BeautifulSoup as bs\n",
    "import re\n",
    "import requests\n",
    "import os"
   ]
  },
  {
   "cell_type": "code",
   "execution_count": null,
   "metadata": {},
   "outputs": [],
   "source": [
    "link = input(\"Inserisci link della sezione del sito ariel da cui vuoi scaricare video e slide\")"
   ]
  },
  {
   "cell_type": "code",
   "execution_count": null,
   "metadata": {},
   "outputs": [],
   "source": [
    "arielauth = input(\"Inserisci il tuo cookie arielauth. Se non sai come recuperarlo leggi sul readme. Assicurati di aver fatto l'accesso di recente\")\n",
    "cookies = {\"arielauth\": f\"{arielauth}\"}"
   ]
  },
  {
   "cell_type": "code",
   "execution_count": null,
   "metadata": {},
   "outputs": [],
   "source": [
    "r = requests.post(link, allow_redirects=True, cookies=cookies)\n",
    "soup = bs(r.text)"
   ]
  },
  {
   "cell_type": "code",
   "execution_count": null,
   "metadata": {},
   "outputs": [],
   "source": [
    "videos = [ div.find(\"video\").find(\"source\")[\"src\"] for div in soup.find_all(\"div\", class_=\"embed-responsive embed-responsive-16by9\")]\n",
    "videos"
   ]
  },
  {
   "cell_type": "code",
   "execution_count": null,
   "metadata": {},
   "outputs": [],
   "source": [
    "materials_nonflat  = [ div.find_all(\"a\") for div in soup.find_all(\"div\", class_=\"arielMessageBody\")]\n",
    "materials = [item[\"href\"] for sublist in materials_nonflat for item in sublist]"
   ]
  },
  {
   "cell_type": "code",
   "execution_count": null,
   "metadata": {},
   "outputs": [],
   "source": [
    "attacched_materials_non_flat =  [ div.find_all(\"a\") for div in soup.find_all(\"div\", class_=\"arielAttachmentBox\")]\n",
    "sitoAriel=\"\"\n",
    "if len(attacched_materials_non_flat)!=0:\n",
    "    sitoAriel = re.search(\"(https://[\\w]+.ariel.ctu.unimi.it/[\\w]+)\", link).group(1)\n",
    "attached_materials = [{\"url\":sitoAriel + re.search( '(/.+)', item[\"href\"]).group(1), \"name\":item.getText() }for sublist in attacched_materials_non_flat for item in sublist]"
   ]
  },
  {
   "cell_type": "code",
   "execution_count": null,
   "metadata": {},
   "outputs": [],
   "source": [
    "for materiale in materials:\n",
    "    print(f\"Sto scaricando {materiale}\")\n",
    "    m = re.search('.+/(.+)', materiale).group(1).strip('/')\n",
    "    r = requests.get(materiale, allow_redirects=True)\n",
    "    os.makedirs(os.path.dirname(\"Result/\"), exist_ok=True)\n",
    "    with open('Result/' + m , 'wb+') as f:\n",
    "       f.write(r.content)"
   ]
  },
  {
   "cell_type": "code",
   "execution_count": null,
   "metadata": {},
   "outputs": [],
   "source": [
    "for materiale in attached_materials:\n",
    "    print(f\"Sto scaricando {materiale['name']}\")\n",
    "    r = requests.post(materiale[\"url\"], allow_redirects=True, cookies=cookies)\n",
    "    os.makedirs(os.path.dirname(\"Result/\"), exist_ok=True)\n",
    "    with open('Result/' + materiale[\"name\"] , 'wb+') as f:\n",
    "        f.write(r.content)\n",
    "print(\"Ho finito di scaricare slide e altri materiali.\")"
   ]
  },
  {
   "cell_type": "code",
   "execution_count": null,
   "metadata": {},
   "outputs": [],
   "source": [
    "i=1\n",
    "for video in videos:\n",
    "    m = re.search('.+/mp4:(.+)(.mp4|.MP4)/.+', video).group(1).replace(\"%20\", \" \")\n",
    "    print(f'Sto scaricando {m}. Progresso: {i}/{len(videos)}')\n",
    "    os.makedirs(os.path.dirname(\"Result/videos/\"), exist_ok=True)\n",
    "    command = f'ffmpeg -i \"{video}\" -y -c copy \"Result/videos/{m}.mp4\"'\n",
    "    if os.system(command):\n",
    "        raise RuntimeError(f'program {command} failed!')\n",
    "    print(f'Ho finito di scaricare {m}')\n",
    "    i++\n",
    "print(\"Finito!\")"
   ]
  }
 ],
 "metadata": {
  "kernelspec": {
   "display_name": "Python 3",
   "language": "python",
   "name": "python3"
  },
  "language_info": {
   "codemirror_mode": {
    "name": "ipython",
    "version": 3
   },
   "file_extension": ".py",
   "mimetype": "text/x-python",
   "name": "python",
   "nbconvert_exporter": "python",
   "pygments_lexer": "ipython3",
   "version": "3.7.4"
  }
 },
 "nbformat": 4,
 "nbformat_minor": 4
}