{
 "cells": [
  {
   "cell_type": "markdown",
   "metadata": {},
   "source": [
    "# Video e Slide Downloader"
   ]
  },
  {
   "cell_type": "code",
   "execution_count": null,
   "metadata": {},
   "outputs": [],
   "source": [
    "from bs4 import BeautifulSoup as bs\n",
    "import re\n",
    "import requests\n",
    "import os"
   ]
  },
  {
   "cell_type": "code",
   "execution_count": null,
   "metadata": {},
   "outputs": [],
   "source": [
    "pagetxt = open(\"page.txt\", \"r\")\n",
    "soup = bs(pagetxt)"
   ]
  },
  {
   "cell_type": "code",
   "execution_count": null,
   "metadata": {},
   "outputs": [],
   "source": [
    "videos = [ div.find(\"video\").find(\"source\")[\"src\"] for div in soup.find_all(\"div\", class_=\"embed-responsive embed-responsive-16by9\")]\n",
    "videos"
   ]
  },
  {
   "cell_type": "code",
   "execution_count": null,
   "metadata": {},
   "outputs": [],
   "source": [
    "materials_nonflat  = [ div.find_all(\"a\") for div in soup.find_all(\"div\", class_=\"arielMessageBody\")]\n",
    "materials = [item[\"href\"] for sublist in materials_nonflat for item in sublist]\n",
    "attacched_materials_non_flat =  [ div.find_all(\"a\") for div in soup.find_all(\"div\", class_=\"arielAttachmentBox\")]\n",
    "sitoAriel=\"\"\n",
    "if len(attacched_materials_non_flat)!=0:\n",
    "    sitoAriel = input(\"Inserire il link del sito ariel\")\n",
    "attached_materials = [sitoAriel + re.search( '(/.+)', item[\"href\"]).group(1) for sublist in attacched_materials_non_flat for item in sublist]\n",
    "materials = materials + attached_materials\n",
    "materials"
   ]
  },
  {
   "cell_type": "code",
   "execution_count": null,
   "metadata": {},
   "outputs": [],
   "source": [
    "print('Sto scaricando slide e altri materiali')\n",
    "for materiale in materials:\n",
    "    r = requests.get(materiale, allow_redirects=True)\n",
    "    m = re.search('.+/(.+)', materiale).group(1)\n",
    "    with open('Result/' + m , 'wb+') as f:\n",
    "        f.write(r.content)\n",
    "print(\"Ho finito di scaricare slide e altri materiali. Inizio a scaricare le videolezioni\")"
   ]
  },
  {
   "cell_type": "code",
   "execution_count": null,
   "metadata": {},
   "outputs": [],
   "source": [
    "for video in videos:\n",
    "    print(f'Sto scaricando {video}')\n",
    "    m = re.search('.+/mp4:(.+).mp4/.+', video).group(1)\n",
    "    command = f'ffmpeg -i \"{m}\" -c copy \"Result/videos/{m}.mp4\"'\n",
    "    if os.system(command):\n",
    "        raise RuntimeError(f'program {command} failed!')\n",
    "    print(f'Ho finito di scaricare {m}')"
   ]
  }
 ],
 "metadata": {
  "kernelspec": {
   "display_name": "Python 3",
   "language": "python",
   "name": "python3"
  },
  "language_info": {
   "codemirror_mode": {
    "name": "ipython",
    "version": 3
   },
   "file_extension": ".py",
   "mimetype": "text/x-python",
   "name": "python",
   "nbconvert_exporter": "python",
   "pygments_lexer": "ipython3",
   "version": "3.7.4"
  }
 },
 "nbformat": 4,
 "nbformat_minor": 4
}
