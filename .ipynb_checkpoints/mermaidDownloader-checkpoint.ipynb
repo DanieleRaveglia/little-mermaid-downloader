{
 "cells": [
  {
   "cell_type": "markdown",
   "metadata": {},
   "source": [
    "# Video e Slide Downloader"
   ]
  },
  {
   "cell_type": "code",
   "execution_count": 1,
   "metadata": {},
   "outputs": [],
   "source": [
    "from bs4 import BeautifulSoup as bs\n",
    "import re\n",
    "import requests\n",
    "import os"
   ]
  },
  {
   "cell_type": "code",
   "execution_count": 2,
   "metadata": {},
   "outputs": [
    {
     "name": "stdin",
     "output_type": "stream",
     "text": [
      "Inserisci link della sezione del sito ariel da cui vuoi scaricare video e slide https://ecasiraghivs.ariel.ctu.unimi.it/v5/frm3/ThreadList.aspx?fc=GonQNOCLFe0vhjQWQl13iPTy3IG78sER7KSlP%2bm5dH3y7ZNBNZ%2f5z3pLKgmUR9sp&roomid=231401\n"
     ]
    }
   ],
   "source": [
    "link = input(\"Inserisci link della sezione del sito ariel da cui vuoi scaricare video e slide\")"
   ]
  },
  {
   "cell_type": "code",
   "execution_count": 13,
   "metadata": {},
   "outputs": [
    {
     "name": "stdin",
     "output_type": "stream",
     "text": [
      "Inserisci il tuo cookie arielauth. Se non sai come recuperarlo leggi sul readme. Assicurati di aver fatto l'accesso di recente eAj/sGhY+NwR1zIoCDnbBE2bOmuLmy7qAdrmXY6/vcGocvtkb9KdeekzMDYspQuMz3qS18yEknSLSNYv+Ks0d2xN7/e/Z8Fq1+6dj+xFyRs=\n"
     ]
    }
   ],
   "source": [
    "arielauth = input(\"Inserisci il tuo cookie arielauth. Se non sai come recuperarlo leggi sul readme. Assicurati di aver fatto l'accesso di recente\")\n",
    "cookies = {\"arielauth\": f\"{arielauth}\"}"
   ]
  },
  {
   "cell_type": "code",
   "execution_count": 14,
   "metadata": {},
   "outputs": [],
   "source": [
    "\n",
    "r = requests.post(link, allow_redirects=True, cookies=cookies)\n",
    "soup = bs(r.text)"
   ]
  },
  {
   "cell_type": "code",
   "execution_count": 5,
   "metadata": {},
   "outputs": [
    {
     "data": {
      "text/plain": [
       "['https://videolectures.unimi.it/vod/mp4:Approfondimenti_Lezione17_Maggio_2021.mp4/manifest.m3u8',\n",
       " 'https://videolectures.unimi.it/vod/mp4:Bioinformatics_lesson_12-05-2021.mp4/manifest.m3u8',\n",
       " 'https://videolectures.unimi.it/vod/mp4:ElenaCasiraghi_Lezione12_B_TimeSeriesData.mp4/manifest.m3u8',\n",
       " 'https://videolectures.unimi.it/vod/mp4:ElenaCasiraghi_Lezione12_C_TimeSeriesData.mp4/manifest.m3u8',\n",
       " 'https://videolectures.unimi.it/vod/mp4:ElenaCasiraghi_Lezione12_MIC.mp4/manifest.m3u8',\n",
       " 'https://videolectures.unimi.it/vod/mp4:ElenaCasiraghi_Lezione11_10_05_2021.mp4/manifest.m3u8',\n",
       " 'https://videolectures.unimi.it/vod/mp4:ElenaCasiraghi_Lezione10_07_05_2021.mp4/manifest.m3u8',\n",
       " 'https://videolectures.unimi.it/vod/mp4:ElenaCasiraghi_Lezione9_03_05_2021.mp4/manifest.m3u8',\n",
       " 'https://videolectures.unimi.it/vod/mp4:ElenaCasiraghi_Lezione8_30_aprile_2021.mp4.mp4/manifest.m3u8',\n",
       " 'https://videolectures.unimi.it/vod/mp4:ElenaCasiraghi_Lezione7_26_aprile_2021.mp4/manifest.m3u8',\n",
       " 'https://videolectures.unimi.it/vod/mp4:ElenaCasiraghi_Lezione6a_2021_04_23.mp4/manifest.m3u8',\n",
       " 'https://videolectures.unimi.it/vod/mp4:ElenaCasiraghi_Lezione6b_2021_04_23.mp4/manifest.m3u8',\n",
       " 'https://videolectures.unimi.it/vod/mp4:Lezione5_tSNE_2021_04_19.mp4/manifest.m3u8',\n",
       " 'https://videolectures.unimi.it/vod/mp4:Lezione4_SNE_2021_04_16.mp4/manifest.m3u8',\n",
       " 'https://videolectures.unimi.it/vod/mp4:Lezione3_PCA_Data_embedding.mp4/manifest.m3u8',\n",
       " 'https://videolectures.unimi.it/vod/mp4:ElenaCasiraghi_Lezione5_2021_04_12.mp4/manifest.m3u8',\n",
       " 'https://videolectures.unimi.it/vod/mp4:ElenaCasiraghi_Lezione4.mp4/manifest.m3u8',\n",
       " 'https://videolectures.unimi.it/vod/mp4:ElenaCasiraghi_Lezione5_22_Marzo_2021.mp4/manifest.m3u8',\n",
       " 'https://videolectures.unimi.it/vod/mp4:ElenaCasiraghi_Lezione2_12_Marzo_2021.mp4/manifest.m3u8',\n",
       " 'https://videolectures.unimi.it/vod/mp4:ElenaCasiraghi_Lezione1_08_Marzo.mp4/manifest.m3u8',\n",
       " 'https://videolectures.unimi.it/vod/mp4:ElenaCasiraghi_Lezione4_19_marzo_2021.mp4/manifest.m3u8',\n",
       " 'https://videolectures.unimi.it/vod/mp4:ElenaCasiraghi_Lezione3_15_Marzo_2021.mp4/manifest.m3u8']"
      ]
     },
     "execution_count": 5,
     "metadata": {},
     "output_type": "execute_result"
    }
   ],
   "source": [
    "videos = [ div.find(\"video\").find(\"source\")[\"src\"] for div in soup.find_all(\"div\", class_=\"embed-responsive embed-responsive-16by9\")]\n",
    "videos"
   ]
  },
  {
   "cell_type": "code",
   "execution_count": 6,
   "metadata": {},
   "outputs": [
    {
     "data": {
      "text/plain": [
       "['https://github.com/fabrhub/vaccines-data',\n",
       " 'https://github.com/mirco-gnuva/CryptoSentiment',\n",
       " 'https://www.youtube.com/watch?v=GTFUBmqqymo',\n",
       " 'https://pad.atrent.it/g-By3RkPRvO9o_2X8kKKFQ',\n",
       " 'https://github.com/gregorioghidoli/netviz',\n",
       " 'http://www.hiveplot.com/']"
      ]
     },
     "execution_count": 6,
     "metadata": {},
     "output_type": "execute_result"
    }
   ],
   "source": [
    "materials_nonflat  = [ div.find_all(\"a\") for div in soup.find_all(\"div\", class_=\"arielMessageBody\")]\n",
    "materials = [item[\"href\"] for sublist in materials_nonflat for item in sublist]\n",
    "materials"
   ]
  },
  {
   "cell_type": "code",
   "execution_count": 11,
   "metadata": {},
   "outputs": [
    {
     "data": {
      "text/plain": [
       "[{'url': 'https://ecasiraghivs.ariel.ctu.unimi.it/v5/frm3/Download.aspx?toolName=contenuti&attachmentid=1319188',\n",
       "  'name': 'graphVisualization_unipred.pdf'},\n",
       " {'url': 'https://ecasiraghivs.ariel.ctu.unimi.it/v5/frm3/Download.aspx?toolName=contenuti&attachmentid=1317733',\n",
       "  'name': 'kernels_on_graphs_and_P-Net.pdf'},\n",
       " {'url': 'https://ecasiraghivs.ariel.ctu.unimi.it/v5/frm3/Download.aspx?toolName=contenuti&attachmentid=1314153',\n",
       "  'name': 'dataset-Sett7.zip'},\n",
       " {'url': 'https://ecasiraghivs.ariel.ctu.unimi.it/v5/frm3/Download.aspx?toolName=contenuti&attachmentid=1314159',\n",
       "  'name': 'Lez11.pdf'},\n",
       " {'url': 'https://ecasiraghivs.ariel.ctu.unimi.it/v5/frm3/Download.aspx?toolName=contenuti&attachmentid=1314150',\n",
       "  'name': 'MATLAB-Sett7.zip'},\n",
       " {'url': 'https://ecasiraghivs.ariel.ctu.unimi.it/v5/frm3/Download.aspx?toolName=contenuti&attachmentid=1314151',\n",
       "  'name': 'MIC.pdf'},\n",
       " {'url': 'https://ecasiraghivs.ariel.ctu.unimi.it/v5/frm3/Download.aspx?toolName=contenuti&attachmentid=1314152',\n",
       "  'name': 'MIC.zip'},\n",
       " {'url': 'https://ecasiraghivs.ariel.ctu.unimi.it/v5/frm3/Download.aspx?toolName=contenuti&attachmentid=1314154',\n",
       "  'name': 'SupportingMaterialMIC.pdf'},\n",
       " {'url': 'https://ecasiraghivs.ariel.ctu.unimi.it/v5/frm3/Download.aspx?toolName=contenuti&attachmentid=1314146',\n",
       "  'name': 'HypothesistestingNotes.pdf'},\n",
       " {'url': 'https://ecasiraghivs.ariel.ctu.unimi.it/v5/frm3/Download.aspx?toolName=contenuti&attachmentid=1314147',\n",
       "  'name': 'Lezione_10.pdf'},\n",
       " {'url': 'https://ecasiraghivs.ariel.ctu.unimi.it/v5/frm3/Download.aspx?toolName=contenuti&attachmentid=1312615',\n",
       "  'name': 'Art_and_Chartjunk.pdf'},\n",
       " {'url': 'https://ecasiraghivs.ariel.ctu.unimi.it/v5/frm3/Download.aspx?toolName=contenuti&attachmentid=1312625',\n",
       "  'name': 'Banking45Degrees.pdf'},\n",
       " {'url': 'https://ecasiraghivs.ariel.ctu.unimi.it/v5/frm3/Download.aspx?toolName=contenuti&attachmentid=1312618',\n",
       "  'name': 'frequency-trails-tutorial.zip'},\n",
       " {'url': 'https://ecasiraghivs.ariel.ctu.unimi.it/v5/frm3/Download.aspx?toolName=contenuti&attachmentid=1312619',\n",
       "  'name': 'Lezion6-7-8-9.pdf'},\n",
       " {'url': 'https://ecasiraghivs.ariel.ctu.unimi.it/v5/frm3/Download.aspx?toolName=contenuti&attachmentid=1312620',\n",
       "  'name': 'streamgraph-tutorial-revised.zip'},\n",
       " {'url': 'https://ecasiraghivs.ariel.ctu.unimi.it/v5/frm3/Download.aspx?toolName=contenuti&attachmentid=1312622',\n",
       "  'name': 'UsefulChartJunk.pdf'},\n",
       " {'url': 'https://ecasiraghivs.ariel.ctu.unimi.it/v5/frm3/Download.aspx?toolName=contenuti&attachmentid=1312621',\n",
       "  'name': 'Visualizing the Titanic Disaster.pdf'},\n",
       " {'url': 'https://ecasiraghivs.ariel.ctu.unimi.it/v5/frm3/Download.aspx?toolName=contenuti&attachmentid=1307683',\n",
       "  'name': 'Lezion6-7-8-9.pdf'},\n",
       " {'url': 'https://ecasiraghivs.ariel.ctu.unimi.it/v5/frm3/Download.aspx?toolName=contenuti&attachmentid=1299008',\n",
       "  'name': 'Lezion6.pdf'},\n",
       " {'url': 'https://ecasiraghivs.ariel.ctu.unimi.it/v5/frm3/Download.aspx?toolName=contenuti&attachmentid=1293992',\n",
       "  'name': 'Lezione_5_TSNE –  high dimensional data embedding.pptx'},\n",
       " {'url': 'https://ecasiraghivs.ariel.ctu.unimi.it/v5/frm3/Download.aspx?toolName=contenuti&attachmentid=1292335',\n",
       "  'name': 'Lezione_4_SNE –  high dimensional data embedding.pdf'},\n",
       " {'url': 'https://ecasiraghivs.ariel.ctu.unimi.it/v5/frm3/Download.aspx?toolName=contenuti&attachmentid=1276452',\n",
       "  'name': 'PCA.pdf'},\n",
       " {'url': 'https://ecasiraghivs.ariel.ctu.unimi.it/v5/frm3/Download.aspx?toolName=contenuti&attachmentid=1276454',\n",
       "  'name': 'SimulazionePCA.m'},\n",
       " {'url': 'https://ecasiraghivs.ariel.ctu.unimi.it/v5/frm3/Download.aspx?toolName=contenuti&attachmentid=1276453',\n",
       "  'name': 'Spearman_Kendall_Spearman.pdf'},\n",
       " {'url': 'https://ecasiraghivs.ariel.ctu.unimi.it/v5/frm3/Download.aspx?toolName=contenuti&attachmentid=1287515',\n",
       "  'name': 'Lezione5_12_Aprile_2021.pdf'},\n",
       " {'url': 'https://ecasiraghivs.ariel.ctu.unimi.it/v5/frm3/Download.aspx?toolName=contenuti&attachmentid=1277485',\n",
       "  'name': 'Cancer Mortality by State.csv'},\n",
       " {'url': 'https://ecasiraghivs.ariel.ctu.unimi.it/v5/frm3/Download.aspx?toolName=contenuti&attachmentid=1277481',\n",
       "  'name': 'Cancer-States-USA.xlsx'},\n",
       " {'url': 'https://ecasiraghivs.ariel.ctu.unimi.it/v5/frm3/Download.aspx?toolName=contenuti&attachmentid=1277482',\n",
       "  'name': 'importances_RF_glm.xlsx'},\n",
       " {'url': 'https://ecasiraghivs.ariel.ctu.unimi.it/v5/frm3/Download.aspx?toolName=contenuti&attachmentid=1277483',\n",
       "  'name': 'Lezione4_29_Marzo_2021.pdf'},\n",
       " {'url': 'https://ecasiraghivs.ariel.ctu.unimi.it/v5/frm3/Download.aspx?toolName=contenuti&attachmentid=1276699',\n",
       "  'name': 'DallOpendataAllaDataphysicalization_lez7_2020-04-06.mkv'},\n",
       " {'url': 'https://ecasiraghivs.ariel.ctu.unimi.it/v5/frm3/Download.aspx?toolName=contenuti&attachmentid=1276696',\n",
       "  'name': 'FINAL-as-published-conferenza-2017-selected-papers-27-trentini.pdf'},\n",
       " {'url': 'https://ecasiraghivs.ariel.ctu.unimi.it/v5/frm3/Download.aspx?toolName=contenuti&attachmentid=1276697',\n",
       "  'name': 'Presentazione.pdf'},\n",
       " {'url': 'https://ecasiraghivs.ariel.ctu.unimi.it/v5/frm3/Download.aspx?toolName=contenuti&attachmentid=1276698',\n",
       "  'name': 'Trentini-Scaravati-OpendataDataPhysIoT-submitted.pdf'},\n",
       " {'url': 'https://ecasiraghivs.ariel.ctu.unimi.it/v5/frm3/Download.aspx?toolName=contenuti&attachmentid=1274962',\n",
       "  'name': 'AnalizeAnscombe.m'},\n",
       " {'url': 'https://ecasiraghivs.ariel.ctu.unimi.it/v5/frm3/Download.aspx?toolName=contenuti&attachmentid=1274963',\n",
       "  'name': 'Anscombe.xls'},\n",
       " {'url': 'https://ecasiraghivs.ariel.ctu.unimi.it/v5/frm3/Download.aspx?toolName=contenuti&attachmentid=1274954',\n",
       "  'name': 'articoliLezione3.zip'},\n",
       " {'url': 'https://ecasiraghivs.ariel.ctu.unimi.it/v5/frm3/Download.aspx?toolName=contenuti&attachmentid=1274958',\n",
       "  'name': 'FertilityExample.xlsx'},\n",
       " {'url': 'https://ecasiraghivs.ariel.ctu.unimi.it/v5/frm3/Download.aspx?toolName=contenuti&attachmentid=1274960',\n",
       "  'name': 'FertilityExamplePOCHE.xlsx'},\n",
       " {'url': 'https://ecasiraghivs.ariel.ctu.unimi.it/v5/frm3/Download.aspx?toolName=contenuti&attachmentid=1274956',\n",
       "  'name': 'FertilitySoloCountries.xlsx'},\n",
       " {'url': 'https://ecasiraghivs.ariel.ctu.unimi.it/v5/frm3/Download.aspx?toolName=contenuti&attachmentid=1270480',\n",
       "  'name': 'Lezione3_22Marzo2021.pdf'},\n",
       " {'url': 'https://ecasiraghivs.ariel.ctu.unimi.it/v5/frm3/Download.aspx?toolName=contenuti&attachmentid=1274957',\n",
       "  'name': 'SYB62_246_201907_Population Growth, Fertility and Mortality Indicators.csv'},\n",
       " {'url': 'https://ecasiraghivs.ariel.ctu.unimi.it/v5/frm3/Download.aspx?toolName=contenuti&attachmentid=1261366',\n",
       "  'name': '$Lezione2_DataVisualization.pdf'},\n",
       " {'url': 'https://ecasiraghivs.ariel.ctu.unimi.it/v5/frm3/Download.aspx?toolName=contenuti&attachmentid=1256033',\n",
       "  'name': '$Lezione1_DataVisualization.pdf'},\n",
       " {'url': 'https://ecasiraghivs.ariel.ctu.unimi.it/v5/frm3/Download.aspx?toolName=contenuti&attachmentid=1256034',\n",
       "  'name': '2010-Narrative-InfoVis.pdf'},\n",
       " {'url': 'https://ecasiraghivs.ariel.ctu.unimi.it/v5/frm3/Download.aspx?toolName=contenuti&attachmentid=1256037',\n",
       "  'name': 'Information_Visualization.pdf'},\n",
       " {'url': 'https://ecasiraghivs.ariel.ctu.unimi.it/v5/frm3/Download.aspx?toolName=contenuti&attachmentid=1256032',\n",
       "  'name': 'InfVisVSScientificVis.pdf'},\n",
       " {'url': 'https://ecasiraghivs.ariel.ctu.unimi.it/v5/frm3/Download.aspx?toolName=contenuti&attachmentid=1268367',\n",
       "  'name': '4_GraphEmbedding.pdf'},\n",
       " {'url': 'https://ecasiraghivs.ariel.ctu.unimi.it/v5/frm3/Download.aspx?toolName=contenuti&attachmentid=1262435',\n",
       "  'name': '1_GraphTheory.pdf'},\n",
       " {'url': 'https://ecasiraghivs.ariel.ctu.unimi.it/v5/frm3/Download.aspx?toolName=contenuti&attachmentid=1262436',\n",
       "  'name': '2_Graph Visualization .pdf'},\n",
       " {'url': 'https://ecasiraghivs.ariel.ctu.unimi.it/v5/frm3/Download.aspx?toolName=contenuti&attachmentid=1262434',\n",
       "  'name': '3_SocialNetworkAnalysis.pdf'}]"
      ]
     },
     "execution_count": 11,
     "metadata": {},
     "output_type": "execute_result"
    }
   ],
   "source": [
    "attacched_materials_non_flat =  [ div.find_all(\"a\") for div in soup.find_all(\"div\", class_=\"arielAttachmentBox\")]\n",
    "sitoAriel=\"\"\n",
    "cookies = \"\"\n",
    "if len(attacched_materials_non_flat)!=0:\n",
    "    sitoAriel = re.search(\"(https://[\\w]+.ariel.ctu.unimi.it/[\\w]+)\", link).group(1)\n",
    "attached_materials = [{\"url\":sitoAriel + re.search( '(/.+)', item[\"href\"]).group(1), \"name\":item.getText() }for sublist in attacched_materials_non_flat for item in sublist]\n",
    "attached_materials"
   ]
  },
  {
   "cell_type": "code",
   "execution_count": 10,
   "metadata": {},
   "outputs": [
    {
     "name": "stdout",
     "output_type": "stream",
     "text": [
      "Sto scaricando https://github.com/fabrhub/vaccines-data\n",
      "Sto scaricando https://github.com/mirco-gnuva/CryptoSentiment\n",
      "Sto scaricando https://www.youtube.com/watch?v=GTFUBmqqymo\n",
      "Sto scaricando https://pad.atrent.it/g-By3RkPRvO9o_2X8kKKFQ\n",
      "Sto scaricando https://github.com/gregorioghidoli/netviz\n",
      "Sto scaricando http://www.hiveplot.com/\n"
     ]
    },
    {
     "data": {
      "text/plain": [
       "'http://www.hiveplot.com/'"
      ]
     },
     "execution_count": 10,
     "metadata": {},
     "output_type": "execute_result"
    }
   ],
   "source": [
    "for materiale in materials:\n",
    "    print(f\"Sto scaricando {materiale}\")\n",
    "    m = re.search('.+/(.+)', materiale).group(1).strip('/')\n",
    "    r = requests.get(materiale, allow_redirects=True)\n",
    "    if not os.path.exists(os.path.dirname('Result')):\n",
    "        try:\n",
    "            os.makedirs(os.path.dirname('Result'))\n",
    "        except OSError as exc: # Guard against race condition\n",
    "            if exc.errno != errno.EEXIST:\n",
    "                raise\n",
    "    with open('Result/' + m , 'wb+') as f:\n",
    "       f.write(r.content)"
   ]
  },
  {
   "cell_type": "code",
   "execution_count": 15,
   "metadata": {},
   "outputs": [
    {
     "name": "stdout",
     "output_type": "stream",
     "text": [
      "Sto scaricando graphVisualization_unipred.pdf\n",
      "Sto scaricando kernels_on_graphs_and_P-Net.pdf\n",
      "Sto scaricando dataset-Sett7.zip\n",
      "Sto scaricando Lez11.pdf\n",
      "Sto scaricando MATLAB-Sett7.zip\n",
      "Sto scaricando MIC.pdf\n",
      "Sto scaricando MIC.zip\n",
      "Sto scaricando SupportingMaterialMIC.pdf\n",
      "Sto scaricando HypothesistestingNotes.pdf\n",
      "Sto scaricando Lezione_10.pdf\n",
      "Sto scaricando Art_and_Chartjunk.pdf\n",
      "Sto scaricando Banking45Degrees.pdf\n",
      "Sto scaricando frequency-trails-tutorial.zip\n",
      "Sto scaricando Lezion6-7-8-9.pdf\n",
      "Sto scaricando streamgraph-tutorial-revised.zip\n",
      "Sto scaricando UsefulChartJunk.pdf\n",
      "Sto scaricando Visualizing the Titanic Disaster.pdf\n",
      "Sto scaricando Lezion6-7-8-9.pdf\n",
      "Sto scaricando Lezion6.pdf\n",
      "Sto scaricando Lezione_5_TSNE –  high dimensional data embedding.pptx\n",
      "Sto scaricando Lezione_4_SNE –  high dimensional data embedding.pdf\n",
      "Sto scaricando PCA.pdf\n",
      "Sto scaricando SimulazionePCA.m\n",
      "Sto scaricando Spearman_Kendall_Spearman.pdf\n",
      "Sto scaricando Lezione5_12_Aprile_2021.pdf\n",
      "Sto scaricando Cancer Mortality by State.csv\n",
      "Sto scaricando Cancer-States-USA.xlsx\n",
      "Sto scaricando importances_RF_glm.xlsx\n",
      "Sto scaricando Lezione4_29_Marzo_2021.pdf\n",
      "Sto scaricando DallOpendataAllaDataphysicalization_lez7_2020-04-06.mkv\n",
      "Sto scaricando FINAL-as-published-conferenza-2017-selected-papers-27-trentini.pdf\n",
      "Sto scaricando Presentazione.pdf\n",
      "Sto scaricando Trentini-Scaravati-OpendataDataPhysIoT-submitted.pdf\n",
      "Sto scaricando AnalizeAnscombe.m\n",
      "Sto scaricando Anscombe.xls\n",
      "Sto scaricando articoliLezione3.zip\n",
      "Sto scaricando FertilityExample.xlsx\n",
      "Sto scaricando FertilityExamplePOCHE.xlsx\n",
      "Sto scaricando FertilitySoloCountries.xlsx\n",
      "Sto scaricando Lezione3_22Marzo2021.pdf\n",
      "Sto scaricando SYB62_246_201907_Population Growth, Fertility and Mortality Indicators.csv\n",
      "Sto scaricando $Lezione2_DataVisualization.pdf\n",
      "Sto scaricando $Lezione1_DataVisualization.pdf\n",
      "Sto scaricando 2010-Narrative-InfoVis.pdf\n",
      "Sto scaricando Information_Visualization.pdf\n",
      "Sto scaricando InfVisVSScientificVis.pdf\n",
      "Sto scaricando 4_GraphEmbedding.pdf\n",
      "Sto scaricando 1_GraphTheory.pdf\n",
      "Sto scaricando 2_Graph Visualization .pdf\n",
      "Sto scaricando 3_SocialNetworkAnalysis.pdf\n",
      "Ho finito di scaricare slide e altri materiali.\n"
     ]
    }
   ],
   "source": [
    "for materiale in attached_materials:\n",
    "    print(f\"Sto scaricando {materiale['name']}\")\n",
    "    r = requests.post(materiale[\"url\"], allow_redirects=True, cookies=cookies)\n",
    "    if not os.path.exists(os.path.dirname('Result')):\n",
    "        try:\n",
    "            os.makedirs(os.path.dirname('Result'))\n",
    "        except OSError as exc: # Guard against race condition\n",
    "            if exc.errno != errno.EEXIST:\n",
    "                raise\n",
    "    with open('Result/' + materiale[\"name\"] , 'wb+') as f:\n",
    "        f.write(r.content)\n",
    "print(\"Ho finito di scaricare slide e altri materiali.\")"
   ]
  },
  {
   "cell_type": "code",
   "execution_count": null,
   "metadata": {},
   "outputs": [],
   "source": [
    "i=1\n",
    "for video in videos:\n",
    "    m = re.search('.+/mp4:(.+)(.mp4|.MP4)/.+', video).group(1).replace(\"%20\", \" \")\n",
    "    print(f'Sto scaricando {m}. Progresso: {i}/{len(videos)}')\n",
    "    if not os.path.exists(os.path.dirname('Result/videos')):\n",
    "        try:\n",
    "            os.makedirs(os.path.dirname('Result/videos'))\n",
    "        except OSError as exc: # Guard against race condition\n",
    "            if exc.errno != errno.EEXIST:\n",
    "                raise\n",
    "    command = f'ffmpeg -i \"{video}\" -y -c copy \"Result/videos/{m}.mp4\"'\n",
    "    if os.system(command):\n",
    "        raise RuntimeError(f'program {command} failed!')\n",
    "    print(f'Ho finito di scaricare {m}')\n",
    "print(\"Finito!\")"
   ]
  }
 ],
 "metadata": {
  "kernelspec": {
   "display_name": "Python 3",
   "language": "python",
   "name": "python3"
  },
  "language_info": {
   "codemirror_mode": {
    "name": "ipython",
    "version": 3
   },
   "file_extension": ".py",
   "mimetype": "text/x-python",
   "name": "python",
   "nbconvert_exporter": "python",
   "pygments_lexer": "ipython3",
   "version": "3.7.4"
  }
 },
 "nbformat": 4,
 "nbformat_minor": 4
}
